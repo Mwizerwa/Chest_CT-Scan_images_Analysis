{
 "cells": [
  {
   "cell_type": "markdown",
   "id": "73f5c86e",
   "metadata": {},
   "source": [
    "## Data Preparation"
   ]
  },
  {
   "cell_type": "code",
   "execution_count": 3,
   "id": "48f142e2",
   "metadata": {},
   "outputs": [],
   "source": [
    "#Import libraries\n",
    "import os\n",
    "import torch\n",
    "import torchvision.transforms as transforms\n",
    "from torchvision.datasets import ImageFolder\n",
    "from torch.utils.data import DataLoader"
   ]
  },
  {
   "cell_type": "code",
   "execution_count": 4,
   "id": "86df7b53",
   "metadata": {},
   "outputs": [],
   "source": [
    "#Define Data Transforms\n",
    "data_transforms = {\n",
    "   \"train\": transforms.Compose([\n",
    "       transforms.RandomResizedCrop(224),\n",
    "       transforms.RandomHorizontalFlip(),\n",
    "       transforms.ToTensor(),\n",
    "       transforms.Normalize([0.485, 0.456, 0.406], [0.229, 0.224, 0.225]),\n",
    "   ]),\n",
    "   \"valid\": transforms.Compose([\n",
    "       transforms.Resize(256),\n",
    "       transforms.CenterCrop(224),\n",
    "       transforms.ToTensor(),\n",
    "       transforms.Normalize([0.485, 0.456, 0.406], [0.229, 0.224, 0.225]),\n",
    "   ]),\n",
    "   \"test\": transforms.Compose([\n",
    "       transforms.Resize(256),\n",
    "       transforms.CenterCrop(224),\n",
    "       transforms.ToTensor(),\n",
    "       transforms.Normalize([0.485, 0.456, 0.406], [0.229, 0.224, 0.225]),\n",
    "   ]),\n",
    "}"
   ]
  },
  {
   "cell_type": "code",
   "execution_count": 5,
   "id": "c3e205dc",
   "metadata": {},
   "outputs": [],
   "source": [
    "#Create Dataset Instances\n",
    "data_dir = \"../data\"\n",
    "\n",
    "image_datasets = {\n",
    "   \"train\": ImageFolder(os.path.join(data_dir, \"train\"), data_transforms[\"train\"]),\n",
    "   \"valid\": ImageFolder(os.path.join(data_dir, \"valid\"), data_transforms[\"valid\"]),\n",
    "   \"test\": ImageFolder(os.path.join(data_dir, \"test\"), data_transforms[\"test\"]),\n",
    "}"
   ]
  },
  {
   "cell_type": "code",
   "execution_count": 6,
   "id": "78095694",
   "metadata": {},
   "outputs": [],
   "source": [
    "#Create Data Loaders\n",
    "batch_size = 32  \n",
    "\n",
    "dataloaders = {\n",
    "   \"train\": DataLoader(image_datasets[\"train\"], batch_size=batch_size, shuffle=True),\n",
    "   \"valid\": DataLoader(image_datasets[\"valid\"], batch_size=batch_size, shuffle=False),\n",
    "   \"test\": DataLoader(image_datasets[\"test\"], batch_size=batch_size, shuffle=False),\n",
    "}"
   ]
  },
  {
   "cell_type": "code",
   "execution_count": null,
   "id": "eea37739",
   "metadata": {},
   "outputs": [],
   "source": []
  },
  {
   "cell_type": "code",
   "execution_count": null,
   "id": "a4cb8ed9",
   "metadata": {},
   "outputs": [],
   "source": []
  },
  {
   "cell_type": "code",
   "execution_count": null,
   "id": "f72a376b",
   "metadata": {},
   "outputs": [],
   "source": []
  },
  {
   "cell_type": "code",
   "execution_count": null,
   "id": "c8793dca",
   "metadata": {},
   "outputs": [],
   "source": []
  },
  {
   "cell_type": "code",
   "execution_count": null,
   "id": "3b270be4",
   "metadata": {},
   "outputs": [],
   "source": []
  },
  {
   "cell_type": "code",
   "execution_count": null,
   "id": "c9dbaa06",
   "metadata": {},
   "outputs": [],
   "source": []
  },
  {
   "cell_type": "code",
   "execution_count": null,
   "id": "bc282a3f",
   "metadata": {},
   "outputs": [],
   "source": []
  },
  {
   "cell_type": "code",
   "execution_count": null,
   "id": "6ece2b4e",
   "metadata": {},
   "outputs": [],
   "source": []
  },
  {
   "cell_type": "code",
   "execution_count": null,
   "id": "d433f9e3",
   "metadata": {},
   "outputs": [],
   "source": []
  }
 ],
 "metadata": {
  "kernelspec": {
   "display_name": "Python 3 (ipykernel)",
   "language": "python",
   "name": "python3"
  },
  "language_info": {
   "codemirror_mode": {
    "name": "ipython",
    "version": 3
   },
   "file_extension": ".py",
   "mimetype": "text/x-python",
   "name": "python",
   "nbconvert_exporter": "python",
   "pygments_lexer": "ipython3",
   "version": "3.11.4"
  }
 },
 "nbformat": 4,
 "nbformat_minor": 5
}
